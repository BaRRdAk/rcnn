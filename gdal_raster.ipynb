{
  "nbformat": 4,
  "nbformat_minor": 0,
  "metadata": {
    "colab": {
      "name": "gdal_raster.ipynb",
      "provenance": [],
      "authorship_tag": "ABX9TyOc8n4rB+lx9pGP/Ev2NY1a",
      "include_colab_link": true
    },
    "kernelspec": {
      "name": "python3",
      "display_name": "Python 3"
    },
    "language_info": {
      "name": "python"
    }
  },
  "cells": [
    {
      "cell_type": "markdown",
      "metadata": {
        "id": "view-in-github",
        "colab_type": "text"
      },
      "source": [
        "<a href=\"https://colab.research.google.com/github/BaRRdAk/rcnn/blob/main/gdal_raster.ipynb\" target=\"_parent\"><img src=\"https://colab.research.google.com/assets/colab-badge.svg\" alt=\"Open In Colab\"/></a>"
      ]
    },
    {
      "cell_type": "markdown",
      "metadata": {
        "id": "dhCeUrBAeAhF"
      },
      "source": [
        "# Create Geotiff"
      ]
    },
    {
      "cell_type": "code",
      "metadata": {
        "colab": {
          "base_uri": "https://localhost:8080/",
          "height": 269
        },
        "id": "Ou4hxcsc5P0F",
        "outputId": "1896736b-aa4f-4cbd-dc07-ce8286e85319"
      },
      "source": [
        "from osgeo import osr, gdal, ogr\n",
        "import matplotlib.pyplot as plt\n",
        "import numpy as np\n",
        "\n",
        "\n",
        "ds = gdal.Open(\"map_ME2_79_7.tiff\")\n",
        "width = ds.RasterXSize\n",
        "height = ds.RasterYSize\n",
        "datas = ds.ReadAsArray(0,0,width,height)\n",
        "\n",
        "datas_1 = []\n",
        "for i in range(3):\n",
        "  band = ds.GetRasterBand(i+1)\n",
        "  data = band.ReadAsArray(0,0,width,height)\n",
        "  datas_1.append(np.reshape(data,(1,-1)))\n",
        "datas_1 = np.concatenate(datas_1)\n",
        "\n",
        "\n",
        "geoTiffDriver = gdal.GetDriverByName(\"GTiff\")\n",
        "\n",
        "tods = geoTiffDriver.Create(\"test_2.tif\", width, height, 3, options=[\"INTERLEAVE=PIXEL\"])\n",
        "tods.WriteRaster(0, 0, width, height, datas_1.tobytes(), width, height, band_list=[1,2,3])\n",
        "\n",
        "tods.FlushCache()\n",
        "\n",
        "# show result\n",
        "res = gdal.Open(\"test_2.tif\")\n",
        "band = res.GetRasterBand(1)\n",
        "arr = band.ReadAsArray()\n",
        "\n",
        "im = plt.imshow(arr)"
      ],
      "execution_count": 60,
      "outputs": [
        {
          "output_type": "display_data",
          "data": {
            "image/png": "[encoded data removed]",
            "text/plain": [
              "<Figure size 432x288 with 1 Axes>"
            ]
          },
          "metadata": {
            "needs_background": "light"
          }
        }
      ]
    },
    {
      "cell_type": "markdown",
      "metadata": {
        "id": "kGbaJYGvd4_4"
      },
      "source": [
        "# Spatial reference and writing of projection information"
      ]
    },
    {
      "cell_type": "code",
      "metadata": {
        "colab": {
          "base_uri": "https://localhost:8080/"
        },
        "id": "8k3gVFzxd3qc",
        "outputId": "301388fb-2446-4cbe-8f88-1f6cba02663c"
      },
      "source": [
        "# GT(0) x-coordinate of the upper-left corner of the upper-left pixel.\n",
        "# GT(1) w-e pixel resolution / pixel width.\n",
        "# GT(2) row rotation (typically zero).\n",
        "# GT(3) y-coordinate of the upper-left corner of the upper-left pixel.\n",
        "# GT(4) column rotation (typically zero).\n",
        "# GT(5) n-s pixel resolution / pixel height (negative value for a north-up image)\n",
        "\n",
        "bottom_left = [4611314.9914456,6590402.9860494]\n",
        "top_right = [4655320.4908912,6632051.0480247]\n",
        "x_pixel_res = height/(top_right[0] - bottom_left[0])\n",
        "y_pixel_res = width/(bottom_left[1] - top_right[1])\n",
        "\n",
        "tods.SetGeoTransform([top_right[0], x_pixel_res, 0, bottom_left[1], 0, y_pixel_res])\n",
        "\n",
        "srs = osr.SpatialReference()\n",
        "#srs.ImportFromEPSG(4326)\n",
        "srs.ImportFromProj4(\"+proj=merc +a=6378137 +b=6378137 +lat_ts=0.0 +lon_0=0.0 +x_0=0.0 +y_0=0 +k=1.0 +units=m +nadgrids=@null +wktext +no_defs\")\n",
        "tods.SetProjection( srs.ExportToWkt() )"
      ],
      "execution_count": 23,
      "outputs": [
        {
          "output_type": "execute_result",
          "data": {
            "text/plain": [
              "0"
            ]
          },
          "metadata": {},
          "execution_count": 23
        }
      ]
    },
    {
      "cell_type": "markdown",
      "metadata": {
        "id": "b-G1T7W3ds_J"
      },
      "source": [
        "# Polyginize"
      ]
    },
    {
      "cell_type": "code",
      "metadata": {
        "id": "tzn3tsP3dpMZ"
      },
      "source": [
        "dst_layername = \"POLYGONIZED_STUFF\"\n",
        "shapeDriver = ogr.GetDriverByName(\"ESRI Shapefile\")\n",
        "dst_ds = shapeDriver.CreateDataSource(dst_layername + \".shp\")\n",
        "\n",
        "dst_layer = dst_ds.CreateLayer(dst_layername, srs=None)\n",
        "gdal.Polygonize(band, None, dst_layer, -1, [], callback=None)"
      ],
      "execution_count": null,
      "outputs": []
    },
    {
      "cell_type": "markdown",
      "metadata": {
        "id": "tgRjB7vQdaqr"
      },
      "source": [
        "# Simplify geometry"
      ]
    },
    {
      "cell_type": "code",
      "metadata": {
        "id": "-MqSJALddYfT"
      },
      "source": [
        "feat = dst_layer.GetFeature(0)\n",
        "geom = feat.geometry()\n",
        "simple = geom.Simplify(0.2)\n",
        "\n",
        "target_ds = geoTiffDriver.Create(\"rasterize.tif\", 500, 500, gdal.GDT_Byte)\n",
        "\n",
        "gdal.RasterizeLayer(target_ds, [3,2,1], dst_layer, burn_values=[200,220,240])\n"
      ],
      "execution_count": null,
      "outputs": []
    }
  ]
}