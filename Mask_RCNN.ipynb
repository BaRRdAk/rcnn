{
  "nbformat": 4,
  "nbformat_minor": 0,
  "metadata": {
    "colab": {
      "name": "Mask RCNN.ipynb",
      "provenance": [],
      "mount_file_id": "https://github.com/BaRRdAk/rcnn/blob/main/Mask_RCNN.ipynb",
      "authorship_tag": "ABX9TyNtLs8YItNkjTx2ZfFFtpyX",
      "include_colab_link": true
    },
    "kernelspec": {
      "name": "python3",
      "display_name": "Python 3"
    },
    "language_info": {
      "name": "python"
    }
  },
  "cells": [
    {
      "cell_type": "markdown",
      "metadata": {
        "id": "view-in-github",
        "colab_type": "text"
      },
      "source": [
        "<a href=\"https://colab.research.google.com/github/BaRRdAk/rcnn/blob/main/Mask_RCNN.ipynb\" target=\"_parent\"><img src=\"https://colab.research.google.com/assets/colab-badge.svg\" alt=\"Open In Colab\"/></a>"
      ]
    },
    {
      "cell_type": "markdown",
      "metadata": {
        "id": "-eM5P2YBx4Ng"
      },
      "source": [
        "#1. Installation"
      ]
    },
    {
      "cell_type": "code",
      "metadata": {
        "id": "g--JsQ0pyFP_"
      },
      "source": [
        "%tensorflow_version 1.x\n",
        "!pip install --upgrade h5py==2.10.0\n",
        "!git clone https://github.com/pysource7/Mask_RCNN\n",
        "import sys\n",
        "sys.path.append(\"/content/Mask_RCNN/demo/\")\n",
        "from train_mask_rcnn_demo import *\n",
        "%matplotlib inline\n"
      ],
      "execution_count": null,
      "outputs": []
    },
    {
      "cell_type": "code",
      "metadata": {
        "id": "ahFBCgAI12Qr"
      },
      "source": [
        "!nvidia-smi"
      ],
      "execution_count": null,
      "outputs": []
    },
    {
      "cell_type": "markdown",
      "metadata": {
        "id": "Ib1CpakK2KU6"
      },
      "source": [
        "# 2. Image Dataset"
      ]
    },
    {
      "cell_type": "code",
      "metadata": {
        "id": "bxjcBEK42Xgn"
      },
      "source": [
        "# Extract Images\n",
        "images_path = \"images.zip\"\n",
        "annotations_path = \"annotations.json\"\n",
        "\n",
        "extract_images(os.path.join(\"/content/\", images_path), \"/content/dataset\")"
      ],
      "execution_count": null,
      "outputs": []
    },
    {
      "cell_type": "code",
      "metadata": {
        "id": "biP9jY0G3ZKU"
      },
      "source": [
        "dataset_train = load_image_dataset(os.path.join(\"/content/\", annotations_path), \"/content/dataset\", \"train\")\n",
        "dataset_val = load_image_dataset(os.path.join(\"/content/\", annotations_path), \"/content/dataset\", \"val\")\n",
        "print('Validation: %d' % len(dataset_val.image_ids))\n",
        "\n",
        "class_number = dataset_train.count_classes()\n",
        "print(\"Classes: {}\".format(class_number))"
      ],
      "execution_count": null,
      "outputs": []
    },
    {
      "cell_type": "code",
      "metadata": {
        "id": "PVQFyvar545i"
      },
      "source": [
        "# Load image samples\n",
        "display_image_samples(dataset_train)"
      ],
      "execution_count": null,
      "outputs": []
    },
    {
      "cell_type": "code",
      "metadata": {
        "id": "xn0YG_XI9TYr"
      },
      "source": [
        "# Load Configuration\n",
        "config = CustomConfig(class_number)\n",
        "#config.display()\n",
        "model = load_training_model(config)"
      ],
      "execution_count": null,
      "outputs": []
    },
    {
      "cell_type": "markdown",
      "metadata": {
        "id": "mi4mAooW_alg"
      },
      "source": [
        "# 3. Training\n",
        "\n",
        "Train Mask RCNN on your custom Dataset"
      ]
    },
    {
      "cell_type": "code",
      "metadata": {
        "id": "WJ-Iokvk9x5z"
      },
      "source": [
        "# Start Training\n",
        "# This operation might take a long time\n",
        "train_head(model, dataset_train, dataset_train, config)"
      ],
      "execution_count": null,
      "outputs": []
    },
    {
      "cell_type": "markdown",
      "metadata": {
        "id": "JQmO1dEE_uNA"
      },
      "source": [
        "# 4. Detection (test your model on a random image)"
      ]
    },
    {
      "cell_type": "code",
      "metadata": {
        "id": "6_DJt735A41C"
      },
      "source": [
        "# Load Test Model\n",
        "# The latest trained model will be loaded\n",
        "test_model, inference_config = load_test_model(class_number)"
      ],
      "execution_count": null,
      "outputs": []
    },
    {
      "cell_type": "code",
      "metadata": {
        "id": "8PEbrakYBNNn"
      },
      "source": [
        "# Test on a random image\n",
        "test_random_image(test_model, dataset_val, inference_config)"
      ],
      "execution_count": null,
      "outputs": []
    },
    {
      "cell_type": "markdown",
      "metadata": {
        "id": "NbxnFuTLRdmo"
      },
      "source": [
        "# 5. Run Mas-RCNN on Images"
      ]
    },
    {
      "cell_type": "code",
      "metadata": {
        "id": "396xs8cpMS7H"
      },
      "source": [
        "test_model, inference_config = load_inference_model(1, \"/content/drive/MyDrive/RCNN/mask_rcnn_object_0003.h5\")"
      ],
      "execution_count": null,
      "outputs": []
    },
    {
      "cell_type": "code",
      "metadata": {
        "id": "UpRH6zCQzDf3"
      },
      "source": [
        "# Load Image\n",
        "img = cv2.imread(\"/content/drive/MyDrive/RCNN/scr_15.png\")\n",
        "\n",
        "image = cv2.cvtColor(img, cv2.COLOR_BGR2RGB)\n",
        "\n",
        "# Detect result\n",
        "r = test_model.detect([image])[0]"
      ],
      "execution_count": 6,
      "outputs": []
    },
    {
      "cell_type": "code",
      "metadata": {
        "id": "3ouAqep0NaQ-"
      },
      "source": [
        "from mrcnn.visualize import random_colors, get_mask_contours, draw_mask\n",
        "from google.colab.patches import cv2_imshow\n",
        "\n",
        "# Get Coordinates and show it on the image\n",
        "object_count = len(r[\"class_ids\"])\n",
        "colors = random_colors(object_count)\n",
        "for i in range(object_count):\n",
        "  # 1. Mask\n",
        "  mask = r[\"masks\"][:, :, i]\n",
        "\n",
        "  contours = get_mask_contours(mask)\n",
        "  for cnt in contours:\n",
        "    cv2.polylines(img, [cnt], True, colors[i], 2)\n",
        "    print(len(cnt))\n",
        "    vimg = draw_mask(img, [cnt], colors[i])\n",
        "\n",
        "cv2_imshow(img)"
      ],
      "execution_count": null,
      "outputs": []
    },
    {
      "cell_type": "markdown",
      "metadata": {
        "id": "pVGcJWT57w2O"
      },
      "source": [
        "# 6. Vectorize mask"
      ]
    },
    {
      "cell_type": "code",
      "metadata": {
        "id": "mfuiPTX70CZW"
      },
      "source": [
        "from osgeo import ogr\n",
        "\n",
        "bottom_left = [4611314.9914456,6590402.9860494]\n",
        "top_right = [4655320.4908912,6632051.0480247]\n",
        "x_pixel_res = height/(top_right[0] - bottom_left[0])\n",
        "y_pixel_res = width/(bottom_left[1] - top_right[1])\n",
        "\n",
        "multipolygon = ogr.Geometry(ogr.wkbMultiPolygon)\n",
        "\n",
        "top_left_coord = [top_right[0], bottom_left[1]]\n",
        "\n",
        "def convert_coord(x_pixel_res, y_pixel_res, top_left_coord, raster_coord):\n",
        "    x = 0\n",
        "    y = 0\n",
        "    \n",
        "    \n",
        "\n",
        "    return [x,y]\n",
        "\n",
        "# Create ring #1\n",
        "ring1 = ogr.Geometry(ogr.wkbLinearRing)\n",
        "ring1.AddPoint(1204067.0548148106, 634617.5980860253)\n",
        "ring1.AddPoint(1204067.0548148106, 620742.1035724243)\n",
        "ring1.AddPoint(1215167.4504256917, 620742.1035724243)\n",
        "ring1.AddPoint(1215167.4504256917, 634617.5980860253)\n",
        "ring1.AddPoint(1204067.0548148106, 634617.5980860253)\n",
        "\n",
        "# Create polygon #1\n",
        "poly1 = ogr.Geometry(ogr.wkbPolygon)\n",
        "poly1.AddGeometry(ring1)\n",
        "multipolygon.AddGeometry(poly1)\n",
        "\n",
        "simple = multipolygon.Simplify(0.2)\n",
        "\n",
        "print multipolygon.ExportToWkt()\n",
        "\n",
        "\n",
        "dst_layername = \"POLYGONIZED_STUFF\"\n",
        "shapeDriver = ogr.GetDriverByName(\"ESRI Shapefile\")\n",
        "dst_ds = shapeDriver.CreateDataSource(dst_layername + \".shp\")\n",
        "\n",
        "# create the spatial reference system, WGS84\n",
        "srs =  osr.SpatialReference()\n",
        "srs.ImportFromEPSG(4326)\n",
        "\n",
        "# create one layer \n",
        "dst_layer = ds.CreateLayer(dst_layername, srs, ogr.wkbLineString)\n",
        "\n",
        "# Add an ID field\n",
        "idField = ogr.FieldDefn(\"id\", ogr.OFTInteger)\n",
        "dst_layer.CreateField(idField)\n",
        "\n",
        "# Create the feature and set values\n",
        "featureDefn = layer.GetLayerDefn()\n",
        "feature = ogr.Feature(featureDefn)\n",
        "feature.SetGeometry(multipolygon)\n",
        "feature.SetField(\"id\", 1)\n",
        "dst_layer.CreateFeature(feature)\n",
        "\n",
        "feature = None\n",
        "\n",
        "# Save and close DataSource\n",
        "ds = None\n",
        "\n",
        "target_ds = geoTiffDriver.Create(\"rasterize.tif\", 500, 500, gdal.GDT_Byte)\n",
        "\n",
        "gdal.RasterizeLayer(target_ds, [3,2,1], dst_layer, burn_values=[200,220,240])"
      ],
      "execution_count": null,
      "outputs": []
    }
  ]
}